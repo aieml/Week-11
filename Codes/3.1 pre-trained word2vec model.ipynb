{
 "cells": [
  {
   "cell_type": "code",
   "execution_count": 13,
   "metadata": {},
   "outputs": [],
   "source": [
    "from gensim.models import KeyedVectors\n",
    "\n",
    "model=KeyedVectors.load_word2vec_format('H:\\GoogleNews-vectors-negative300.bin',binary=True,limit=100000)\n",
    "#pre-trained wors2vec model based on Google News (Vector size 300)"
   ]
  },
  {
   "cell_type": "code",
   "execution_count": 20,
   "metadata": {},
   "outputs": [
    {
     "data": {
      "text/plain": [
       "[('king', 0.6478991508483887),\n",
       " ('queen', 0.535493791103363),\n",
       " ('women', 0.5233659148216248),\n",
       " ('kings', 0.5162314176559448),\n",
       " ('queens', 0.499536395072937),\n",
       " ('princes', 0.46233272552490234),\n",
       " ('monarch', 0.45280295610427856),\n",
       " ('monarchy', 0.4293174147605896),\n",
       " ('crown_prince', 0.42302513122558594),\n",
       " ('womens', 0.4175665080547333)]"
      ]
     },
     "execution_count": 20,
     "metadata": {},
     "output_type": "execute_result"
    }
   ],
   "source": [
    "vec=model['king']-model['man']+model['women']\n",
    "model.most_similar([vec])"
   ]
  },
  {
   "cell_type": "code",
   "execution_count": 21,
   "metadata": {},
   "outputs": [
    {
     "data": {
      "text/plain": [
       "[('France', 0.7724405527114868),\n",
       " ('Paris', 0.6798243522644043),\n",
       " ('Belgium', 0.598486065864563),\n",
       " ('Germany', 0.5652832388877869),\n",
       " ('Spain', 0.5508158206939697),\n",
       " ('Italy', 0.5462925434112549),\n",
       " ('Marseille', 0.5372347235679626),\n",
       " ('Switzerland', 0.5364958047866821),\n",
       " ('French', 0.5346113443374634),\n",
       " ('Morocco', 0.5051252841949463)]"
      ]
     },
     "execution_count": 21,
     "metadata": {},
     "output_type": "execute_result"
    }
   ],
   "source": [
    "vec=model['Germany']-model['Berlin']+model['Paris']\n",
    "model.most_similar([vec])"
   ]
  },
  {
   "cell_type": "code",
   "execution_count": 22,
   "metadata": {},
   "outputs": [
    {
     "data": {
      "text/plain": [
       "[('Sri_Lanka', 0.7364534139633179),\n",
       " ('Colombo', 0.732506513595581),\n",
       " ('Sri_Lankan', 0.6309019327163696),\n",
       " ('Lanka', 0.6260771751403809),\n",
       " ('Jaffna', 0.5784397125244141),\n",
       " ('Batticaloa', 0.5575212240219116),\n",
       " ('Trincomalee', 0.5571128129959106),\n",
       " ('Lankan', 0.5525251626968384),\n",
       " ('Sri_Lankans', 0.5492756962776184),\n",
       " ('Galle', 0.5291154384613037)]"
      ]
     },
     "execution_count": 22,
     "metadata": {},
     "output_type": "execute_result"
    }
   ],
   "source": [
    "vec=model['India']-model['Delhi']+model['Colombo']\n",
    "model.most_similar([vec])"
   ]
  },
  {
   "cell_type": "code",
   "execution_count": 23,
   "metadata": {},
   "outputs": [
    {
     "data": {
      "text/plain": [
       "[('Messi', 0.7291519641876221),\n",
       " ('Nadal', 0.6720477342605591),\n",
       " ('Del_Potro', 0.6447901129722595),\n",
       " ('Federer', 0.6259542107582092),\n",
       " ('Lionel_Messi', 0.6209988594055176),\n",
       " ('Xavi', 0.6181107759475708),\n",
       " ('Safin', 0.6121035814285278),\n",
       " ('Verdasco', 0.6112548112869263),\n",
       " ('Djokovic', 0.6095514297485352),\n",
       " ('Ancic', 0.6083440780639648)]"
      ]
     },
     "execution_count": 23,
     "metadata": {},
     "output_type": "execute_result"
    }
   ],
   "source": [
    "vec=model['Messi']-model['Football']+model['=']\n",
    "model.most_similar([vec])"
   ]
  },
  {
   "cell_type": "code",
   "execution_count": null,
   "metadata": {},
   "outputs": [],
   "source": []
  }
 ],
 "metadata": {
  "kernelspec": {
   "display_name": "Python 3",
   "language": "python",
   "name": "python3"
  },
  "language_info": {
   "codemirror_mode": {
    "name": "ipython",
    "version": 3
   },
   "file_extension": ".py",
   "mimetype": "text/x-python",
   "name": "python",
   "nbconvert_exporter": "python",
   "pygments_lexer": "ipython3",
   "version": "3.6.8"
  }
 },
 "nbformat": 4,
 "nbformat_minor": 2
}
